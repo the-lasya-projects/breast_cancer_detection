{
 "cells": [
  {
   "cell_type": "code",
   "execution_count": 1,
   "metadata": {},
   "outputs": [],
   "source": [
    "import tensorflow as tf\n",
    "from keras.preprocessing.image import ImageDataGenerator"
   ]
  },
  {
   "cell_type": "code",
   "execution_count": 2,
   "metadata": {},
   "outputs": [],
   "source": [
    "import matplotlib\n",
    "import matplotlib.pyplot as plt\n",
    "import numpy as np\n",
    "import pandas as pd\n",
    "import tensorflow.keras.utils as tku"
   ]
  },
  {
   "cell_type": "code",
   "execution_count": 3,
   "metadata": {},
   "outputs": [
    {
     "data": {
      "text/plain": [
       "'2.4.1'"
      ]
     },
     "execution_count": 3,
     "metadata": {},
     "output_type": "execute_result"
    }
   ],
   "source": [
    "tf.__version__"
   ]
  },
  {
   "cell_type": "code",
   "execution_count": 4,
   "metadata": {},
   "outputs": [
    {
     "name": "stdout",
     "output_type": "stream",
     "text": [
      "Found 37340 images belonging to 10 classes.\n"
     ]
    }
   ],
   "source": [
    "train_datagen = ImageDataGenerator(rescale = 1./255,\n",
    "                                   shear_range = 0.2,\n",
    "                                   zoom_range = 0.2,\n",
    "                                   horizontal_flip = True)\n",
    "training_set = train_datagen.flow_from_directory('datasets/MNIST/training_set',\n",
    "                                                 target_size = (28, 28),\n",
    "                                                 batch_size = 32,\n",
    "                                                 class_mode = 'categorical')"
   ]
  },
  {
   "cell_type": "code",
   "execution_count": 5,
   "metadata": {},
   "outputs": [
    {
     "name": "stdout",
     "output_type": "stream",
     "text": [
      "Found 4660 images belonging to 10 classes.\n"
     ]
    }
   ],
   "source": [
    "train_datagen = ImageDataGenerator(rescale = 1./255,\n",
    "                                   shear_range = 0.2,\n",
    "                                   zoom_range = 0.2,\n",
    "                                   horizontal_flip = True)\n",
    "test_set = train_datagen.flow_from_directory('datasets/MNIST/test_set',\n",
    "                                                 target_size = (28, 28),\n",
    "                                                 batch_size = 32,\n",
    "                                                 class_mode = 'categorical')"
   ]
  },
  {
   "cell_type": "code",
   "execution_count": 6,
   "metadata": {},
   "outputs": [],
   "source": [
    "cnn = tf.keras.models.Sequential()"
   ]
  },
  {
   "cell_type": "code",
   "execution_count": 7,
   "metadata": {},
   "outputs": [],
   "source": [
    "cnn.add(tf.keras.layers.Conv2D(filters=32, kernel_size=3, activation='relu', input_shape=[28, 28, 3]))"
   ]
  },
  {
   "cell_type": "code",
   "execution_count": 8,
   "metadata": {},
   "outputs": [],
   "source": [
    "cnn.add(tf.keras.layers.MaxPool2D(pool_size=2, strides=2))"
   ]
  },
  {
   "cell_type": "code",
   "execution_count": 9,
   "metadata": {},
   "outputs": [],
   "source": [
    "cnn.add(tf.keras.layers.Conv2D(filters=32, kernel_size=3, activation='relu'))\n",
    "cnn.add(tf.keras.layers.MaxPool2D(pool_size=2, strides=2))"
   ]
  },
  {
   "cell_type": "code",
   "execution_count": 10,
   "metadata": {},
   "outputs": [],
   "source": [
    "cnn.add(tf.keras.layers.Flatten())"
   ]
  },
  {
   "cell_type": "code",
   "execution_count": 11,
   "metadata": {},
   "outputs": [],
   "source": [
    "cnn.add(tf.keras.layers.Dense(units=64, activation='relu'))"
   ]
  },
  {
   "cell_type": "code",
   "execution_count": 12,
   "metadata": {},
   "outputs": [],
   "source": [
    "cnn.add(tf.keras.layers.Dense(units=10, activation='softmax'))"
   ]
  },
  {
   "cell_type": "code",
   "execution_count": 13,
   "metadata": {},
   "outputs": [],
   "source": [
    "cnn.compile(optimizer = 'adam', loss = 'categorical_crossentropy', metrics = ['accuracy'])"
   ]
  },
  {
   "cell_type": "code",
   "execution_count": 14,
   "metadata": {},
   "outputs": [
    {
     "name": "stdout",
     "output_type": "stream",
     "text": [
      "Epoch 1/20\n",
      "1167/1167 [==============================] - 82s 69ms/step - loss: 0.6410 - accuracy: 0.7932 - val_loss: 0.1604 - val_accuracy: 0.9481\n",
      "Epoch 2/20\n",
      "1167/1167 [==============================] - 96s 83ms/step - loss: 0.1540 - accuracy: 0.9509 - val_loss: 0.0991 - val_accuracy: 0.9695\n",
      "Epoch 3/20\n",
      "1167/1167 [==============================] - 104s 90ms/step - loss: 0.1028 - accuracy: 0.9670 - val_loss: 0.0802 - val_accuracy: 0.9749\n",
      "Epoch 4/20\n",
      "1167/1167 [==============================] - 64s 55ms/step - loss: 0.0848 - accuracy: 0.9740 - val_loss: 0.0765 - val_accuracy: 0.9770\n",
      "Epoch 5/20\n",
      "1167/1167 [==============================] - 66s 57ms/step - loss: 0.0724 - accuracy: 0.9765 - val_loss: 0.0843 - val_accuracy: 0.9723\n",
      "Epoch 6/20\n",
      "1167/1167 [==============================] - 61s 52ms/step - loss: 0.0625 - accuracy: 0.9813 - val_loss: 0.0629 - val_accuracy: 0.9803\n",
      "Epoch 7/20\n",
      "1167/1167 [==============================] - 68s 58ms/step - loss: 0.0548 - accuracy: 0.9830 - val_loss: 0.0647 - val_accuracy: 0.9805\n",
      "Epoch 8/20\n",
      "1167/1167 [==============================] - 46s 39ms/step - loss: 0.0559 - accuracy: 0.9827 - val_loss: 0.0688 - val_accuracy: 0.9790\n",
      "Epoch 9/20\n",
      "1167/1167 [==============================] - 51s 44ms/step - loss: 0.0507 - accuracy: 0.9832 - val_loss: 0.0674 - val_accuracy: 0.9783\n",
      "Epoch 10/20\n",
      "1167/1167 [==============================] - 104s 89ms/step - loss: 0.0475 - accuracy: 0.9860 - val_loss: 0.0500 - val_accuracy: 0.9828\n",
      "Epoch 11/20\n",
      "1167/1167 [==============================] - 392s 336ms/step - loss: 0.0412 - accuracy: 0.9859 - val_loss: 0.0603 - val_accuracy: 0.9815\n",
      "Epoch 12/20\n",
      "1167/1167 [==============================] - 43s 37ms/step - loss: 0.0399 - accuracy: 0.9875 - val_loss: 0.0613 - val_accuracy: 0.9811\n",
      "Epoch 13/20\n",
      "1167/1167 [==============================] - 29s 25ms/step - loss: 0.0378 - accuracy: 0.9885 - val_loss: 0.0627 - val_accuracy: 0.9815\n",
      "Epoch 14/20\n",
      "1167/1167 [==============================] - 44s 38ms/step - loss: 0.0379 - accuracy: 0.9878 - val_loss: 0.0459 - val_accuracy: 0.9850\n",
      "Epoch 15/20\n",
      "1167/1167 [==============================] - 48s 41ms/step - loss: 0.0341 - accuracy: 0.9888 - val_loss: 0.0591 - val_accuracy: 0.9809\n",
      "Epoch 16/20\n",
      "1167/1167 [==============================] - 54s 46ms/step - loss: 0.0357 - accuracy: 0.9877 - val_loss: 0.0500 - val_accuracy: 0.9845\n",
      "Epoch 17/20\n",
      "1167/1167 [==============================] - 37s 32ms/step - loss: 0.0285 - accuracy: 0.9902 - val_loss: 0.0617 - val_accuracy: 0.9811\n",
      "Epoch 18/20\n",
      "1167/1167 [==============================] - 36s 31ms/step - loss: 0.0268 - accuracy: 0.9911 - val_loss: 0.0636 - val_accuracy: 0.9830\n",
      "Epoch 19/20\n",
      "1167/1167 [==============================] - 52s 44ms/step - loss: 0.0293 - accuracy: 0.9908 - val_loss: 0.0582 - val_accuracy: 0.9848\n",
      "Epoch 20/20\n",
      "1167/1167 [==============================] - 41s 35ms/step - loss: 0.0281 - accuracy: 0.9905 - val_loss: 0.0479 - val_accuracy: 0.9841\n"
     ]
    }
   ],
   "source": [
    "trained_model = cnn.fit(x = training_set, validation_data = test_set, epochs = 20)"
   ]
  },
  {
   "cell_type": "code",
   "execution_count": 33,
   "metadata": {},
   "outputs": [],
   "source": [
    "import numpy as np\n",
    "from keras.preprocessing import image\n",
    "test_image = image.load_img('datasets/MNIST/single_prediction/img_52.jpg', target_size = (28, 28))\n",
    "test_image = image.img_to_array(test_image)\n",
    "test_image = np.expand_dims(test_image, axis = 0)\n",
    "results = (cnn.predict(test_image))\n",
    "training_set.class_indices\n",
    "if results[0][0] == 1:\n",
    "  prediction = 'Zero'\n",
    "elif results[0][1] == 1:\n",
    "  prediction = 'One'\n",
    "elif results[0][2] == 1:\n",
    "  prediction = 'Two'\n",
    "elif results[0][3] == 1:\n",
    "  prediction = 'Three'\n",
    "elif results[0][4] == 1:\n",
    "  prediction = 'Four'\n",
    "elif results[0][5] == 1:\n",
    "  prediction = 'Five'\n",
    "elif results[0][6] == 1:\n",
    "  prediction = 'Six'\n",
    "elif results[0][7] == 1:\n",
    "  prediction = 'Seven'\n",
    "elif results[0][8] == 1:\n",
    "  prediction = 'Eight'\n",
    "else:\n",
    "  prediction = 'Nine'"
   ]
  },
  {
   "cell_type": "code",
   "execution_count": 34,
   "metadata": {},
   "outputs": [
    {
     "name": "stdout",
     "output_type": "stream",
     "text": [
      "[[0. 0. 0. 0. 0. 0. 0. 0. 1. 0.]]\n"
     ]
    }
   ],
   "source": [
    "print(results)"
   ]
  },
  {
   "cell_type": "code",
   "execution_count": 35,
   "metadata": {},
   "outputs": [
    {
     "name": "stdout",
     "output_type": "stream",
     "text": [
      "Eight\n"
     ]
    }
   ],
   "source": [
    "print(prediction)"
   ]
  },
  {
   "cell_type": "code",
   "execution_count": 18,
   "metadata": {
    "scrolled": true
   },
   "outputs": [
    {
     "ename": "NameError",
     "evalue": "name 'H' is not defined",
     "output_type": "error",
     "traceback": [
      "\u001b[0;31m---------------------------------------------------------------------------\u001b[0m",
      "\u001b[0;31mNameError\u001b[0m                                 Traceback (most recent call last)",
      "\u001b[0;32m<ipython-input-18-a819feaf1f33>\u001b[0m in \u001b[0;36m<module>\u001b[0;34m\u001b[0m\n\u001b[1;32m      3\u001b[0m \u001b[0mplt\u001b[0m\u001b[0;34m.\u001b[0m\u001b[0mstyle\u001b[0m\u001b[0;34m.\u001b[0m\u001b[0muse\u001b[0m\u001b[0;34m(\u001b[0m\u001b[0;34m\"ggplot\"\u001b[0m\u001b[0;34m)\u001b[0m\u001b[0;34m\u001b[0m\u001b[0;34m\u001b[0m\u001b[0m\n\u001b[1;32m      4\u001b[0m \u001b[0mplt\u001b[0m\u001b[0;34m.\u001b[0m\u001b[0mfigure\u001b[0m\u001b[0;34m(\u001b[0m\u001b[0;34m)\u001b[0m\u001b[0;34m\u001b[0m\u001b[0;34m\u001b[0m\u001b[0m\n\u001b[0;32m----> 5\u001b[0;31m \u001b[0mplt\u001b[0m\u001b[0;34m.\u001b[0m\u001b[0mplot\u001b[0m\u001b[0;34m(\u001b[0m\u001b[0mnp\u001b[0m\u001b[0;34m.\u001b[0m\u001b[0marange\u001b[0m\u001b[0;34m(\u001b[0m\u001b[0;36m0\u001b[0m\u001b[0;34m,\u001b[0m \u001b[0mN\u001b[0m\u001b[0;34m)\u001b[0m\u001b[0;34m,\u001b[0m \u001b[0mH\u001b[0m\u001b[0;34m.\u001b[0m\u001b[0mhistory\u001b[0m\u001b[0;34m[\u001b[0m\u001b[0;34m\"loss\"\u001b[0m\u001b[0;34m]\u001b[0m\u001b[0;34m,\u001b[0m \u001b[0mlabel\u001b[0m\u001b[0;34m=\u001b[0m\u001b[0;34m\"train_loss\"\u001b[0m\u001b[0;34m)\u001b[0m\u001b[0;34m\u001b[0m\u001b[0;34m\u001b[0m\u001b[0m\n\u001b[0m\u001b[1;32m      6\u001b[0m \u001b[0mplt\u001b[0m\u001b[0;34m.\u001b[0m\u001b[0mplot\u001b[0m\u001b[0;34m(\u001b[0m\u001b[0mnp\u001b[0m\u001b[0;34m.\u001b[0m\u001b[0marange\u001b[0m\u001b[0;34m(\u001b[0m\u001b[0;36m0\u001b[0m\u001b[0;34m,\u001b[0m \u001b[0mN\u001b[0m\u001b[0;34m)\u001b[0m\u001b[0;34m,\u001b[0m \u001b[0mH\u001b[0m\u001b[0;34m.\u001b[0m\u001b[0mhistory\u001b[0m\u001b[0;34m[\u001b[0m\u001b[0;34m\"val_loss\"\u001b[0m\u001b[0;34m]\u001b[0m\u001b[0;34m,\u001b[0m \u001b[0mlabel\u001b[0m\u001b[0;34m=\u001b[0m\u001b[0;34m\"val_loss\"\u001b[0m\u001b[0;34m)\u001b[0m\u001b[0;34m\u001b[0m\u001b[0;34m\u001b[0m\u001b[0m\n\u001b[1;32m      7\u001b[0m \u001b[0mplt\u001b[0m\u001b[0;34m.\u001b[0m\u001b[0mplot\u001b[0m\u001b[0;34m(\u001b[0m\u001b[0mnp\u001b[0m\u001b[0;34m.\u001b[0m\u001b[0marange\u001b[0m\u001b[0;34m(\u001b[0m\u001b[0;36m0\u001b[0m\u001b[0;34m,\u001b[0m \u001b[0mN\u001b[0m\u001b[0;34m)\u001b[0m\u001b[0;34m,\u001b[0m \u001b[0mH\u001b[0m\u001b[0;34m.\u001b[0m\u001b[0mhistory\u001b[0m\u001b[0;34m[\u001b[0m\u001b[0;34m\"accuracy\"\u001b[0m\u001b[0;34m]\u001b[0m\u001b[0;34m,\u001b[0m \u001b[0mlabel\u001b[0m\u001b[0;34m=\u001b[0m\u001b[0;34m\"train_acc\"\u001b[0m\u001b[0;34m)\u001b[0m\u001b[0;34m\u001b[0m\u001b[0;34m\u001b[0m\u001b[0m\n",
      "\u001b[0;31mNameError\u001b[0m: name 'H' is not defined"
     ]
    },
    {
     "data": {
      "text/plain": [
       "<Figure size 432x288 with 0 Axes>"
      ]
     },
     "metadata": {},
     "output_type": "display_data"
    }
   ],
   "source": []
  },
  {
   "cell_type": "code",
   "execution_count": null,
   "metadata": {},
   "outputs": [],
   "source": []
  }
 ],
 "metadata": {
  "kernelspec": {
   "display_name": "Python 3",
   "language": "python",
   "name": "python3"
  },
  "language_info": {
   "codemirror_mode": {
    "name": "ipython",
    "version": 3
   },
   "file_extension": ".py",
   "mimetype": "text/x-python",
   "name": "python",
   "nbconvert_exporter": "python",
   "pygments_lexer": "ipython3",
   "version": "3.8.5"
  }
 },
 "nbformat": 4,
 "nbformat_minor": 4
}
